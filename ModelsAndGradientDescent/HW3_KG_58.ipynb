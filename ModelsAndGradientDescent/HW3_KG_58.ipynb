{
  "nbformat": 4,
  "nbformat_minor": 0,
  "metadata": {
    "colab": {
      "provenance": []
    },
    "kernelspec": {
      "name": "python3",
      "display_name": "Python 3"
    },
    "language_info": {
      "name": "python"
    }
  },
  "cells": [
    {
      "cell_type": "code",
      "execution_count": null,
      "metadata": {
        "colab": {
          "base_uri": "https://localhost:8080/"
        },
        "id": "c0yydY1viRXP",
        "outputId": "bfbbf061-05ca-42b1-dee4-345ab46a9db8"
      },
      "outputs": [
        {
          "output_type": "stream",
          "name": "stdout",
          "text": [
            "-----------------------------Problem 1----------------------------------\n",
            "Gradient descent algorithm Results:\n",
            "\n",
            "Optimizing for initial point [-0.2, -1.0]:\n",
            "Objective function value: -1.3175387318156826\n",
            "Objective function value: -1.503265873161276\n",
            "Objective function value: -1.3933929562543743\n",
            "Objective function value: -1.9076321773193428\n",
            "Objective function value: -1.912900015321147\n",
            "Objective function value: -1.9131807504289906\n",
            "Objective function value: -1.9132152450977031\n",
            "Objective function value: -1.91322073144749\n",
            "Objective function value: -1.913221746385557\n",
            "Objective function value: -1.9132218772859027\n",
            "Objective function value: -1.9132215459436885\n",
            "Objective function value: -1.9132229477178324\n",
            "Objective function value: -1.913222954748297\n",
            "Objective function value: -1.913222954960514\n",
            "Objective function value: -1.9132229549773028\n",
            "Objective function value: -1.9132229549798279\n",
            "Objective function value: -1.913222954980399\n",
            "Objective function value: -1.9132229549805215\n",
            "Objective function value: -1.913222954980426\n",
            "Objective function value: -1.913222954981035\n",
            "Objective function value: -1.9132229549810367\n",
            "Objective function value: -1.9132229549810367\n",
            "Converged to minimum at x = -0.5471975518820887, y = -1.547197550524929\n",
            "---------------------------------------------------------------\n",
            "Optimizing for initial point [-0.5, -1.5]:\n",
            "Objective function value: -1.9109295805761808\n",
            "Objective function value: -1.9114681674883558\n",
            "Objective function value: -1.9110297007042236\n",
            "Objective function value: -1.9132215281704674\n",
            "Objective function value: -1.9132229214706045\n",
            "Objective function value: -1.913222952576786\n",
            "Objective function value: -1.9132229546063524\n",
            "Objective function value: -1.9132229548741102\n",
            "Objective function value: -1.9132229549304762\n",
            "Objective function value: -1.9132229549439543\n",
            "Objective function value: -1.9132229549407707\n",
            "Objective function value: -1.9132229549810185\n",
            "Objective function value: -1.9132229549810362\n",
            "Objective function value: -1.9132229549810358\n",
            "Objective function value: -1.9132229549810367\n",
            "Objective function value: -1.9132229549810362\n",
            "Objective function value: -1.9132229549810367\n",
            "Objective function value: -1.9132229549810367\n",
            "Converged to minimum at x = -0.5471975510477202, y = -1.5471975510478024\n"
          ]
        }
      ],
      "source": [
        "import numpy as np\n",
        "import math\n",
        "def f(x, y):\n",
        "    return math.sin(x + y) + (x - y)**2 - 1.5 * x + 2.5 * y + 1\n",
        "#derivative of f(x,y) w.r.t x and y\n",
        "def gradient_f(x, y):\n",
        "    df_dx = math.cos(x + y) + 2 * (x - y) - 1.5\n",
        "    df_dy = math.cos(x + y) - 2 * (x - y) + 2.5\n",
        "    return np.array([df_dx, df_dy])\n",
        "def gd_optimize(a):\n",
        "    learning_rate = 1.0\n",
        "    threshold = 1e-20\n",
        "    x, y = a[0], a[1]\n",
        "    prev_obj_value = f(x, y)\n",
        "    while True:\n",
        "        grad = gradient_f(x, y)\n",
        "        x -= learning_rate * grad[0]\n",
        "        y -= learning_rate * grad[1]\n",
        "        obj_value = f(x, y)\n",
        "        print(\"Objective function value:\", obj_value)\n",
        "        if abs(obj_value - prev_obj_value) < threshold:\n",
        "            print(f\"Converged to minimum at x = {x}, y = {y}\")\n",
        "            break\n",
        "        if obj_value > prev_obj_value:\n",
        "            learning_rate /= 2.0\n",
        "        else:\n",
        "            learning_rate *= 1.1\n",
        "        prev_obj_value = obj_value\n",
        "\n",
        "print(\"-----------------------------Problem 1----------------------------------\")\n",
        "print(\"Gradient descent algorithm Results:\")\n",
        "print(\"\\nOptimizing for initial point [-0.2, -1.0]:\")\n",
        "gd_optimize(np.array([-0.2, -1.0]))\n",
        "\n",
        "print(\"---------------------------------------------------------------\")\n",
        "print(\"Optimizing for initial point [-0.5, -1.5]:\")\n",
        "gd_optimize(np.array([-0.5, -1.5]))"
      ]
    },
    {
      "cell_type": "code",
      "source": [
        "def hessian_f(x, y):\n",
        "    d2f_dx2 = -math.sin(x + y) + 2\n",
        "    d2f_dxdy = -math.sin(x + y) - 2\n",
        "    d2f_dydx = -math.sin(x + y) - 2\n",
        "    d2f_dy2 = -math.sin(x + y) + 2\n",
        "    return np.array([[d2f_dx2, d2f_dxdy], [d2f_dydx, d2f_dy2]])\n",
        "def nm_optimize(a):\n",
        "    prev_value = f(a[0], a[1])\n",
        "    threshold = 1e-20\n",
        "    while True:\n",
        "        grad = gradient_f(a[0], a[1])\n",
        "        hessian = hessian_f(a[0], a[1])\n",
        "        hessian_inv = np.linalg.inv(hessian)\n",
        "        new_a = a - np.dot(hessian_inv, grad)\n",
        "        new_value = f(new_a[0], new_a[1])\n",
        "        print(\"Objective function value:\",new_value)\n",
        "        if abs(new_value - prev_value) < threshold:\n",
        "            print(f\"Converged to minimum at x = {new_a[0]}, y = {new_a[1]}\")\n",
        "            break\n",
        "        prev_value = new_value\n",
        "        a = new_a\n",
        "\n",
        "print(\"-----------------------------Problem 2----------------------------------\")\n",
        "print(\"Newton's Method Optimization Results:\")\n",
        "print(\"\\nOptimizing for initial point [-0.2, -1.0]:\")\n",
        "nm_optimize(np.array([-0.2, -1.0]))\n",
        "print(\"---------------------------------------------------------------\")\n",
        "print(\"Optimizing for initial point [-0.5, -1.5]:\")\n",
        "nm_optimize(np.array([-0.5, -1.5]))\n"
      ],
      "metadata": {
        "colab": {
          "base_uri": "https://localhost:8080/"
        },
        "id": "zUENirl8j_Cg",
        "outputId": "363f67c0-cc4d-4501-8825-09589f1a56f7"
      },
      "execution_count": null,
      "outputs": [
        {
          "output_type": "stream",
          "name": "stdout",
          "text": [
            "-----------------------------Problem 2----------------------------------\n",
            "Newton's Method Optimization Results:\n",
            "\n",
            "Optimizing for initial point [-0.2, -1.0]:\n",
            "Objective function value: -1.9128135207487111\n",
            "Objective function value: -1.9132229186591214\n",
            "Objective function value: -1.9132229549810362\n",
            "Objective function value: -1.9132229549810362\n",
            "Converged to minimum at x = -0.5471975511965976, y = -1.5471975511965976\n",
            "---------------------------------------------------------------\n",
            "Optimizing for initial point [-0.5, -1.5]:\n",
            "Objective function value: -1.9132209008539096\n",
            "Objective function value: -1.913222954980231\n",
            "Objective function value: -1.9132229549810362\n",
            "Objective function value: -1.9132229549810367\n",
            "Objective function value: -1.9132229549810367\n",
            "Converged to minimum at x = -0.5471975511965976, y = -1.5471975511965979\n"
          ]
        }
      ]
    }
  ]
}