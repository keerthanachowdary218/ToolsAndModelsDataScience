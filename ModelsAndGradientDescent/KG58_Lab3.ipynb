{
  "nbformat": 4,
  "nbformat_minor": 0,
  "metadata": {
    "colab": {
      "provenance": []
    },
    "kernelspec": {
      "name": "python3",
      "display_name": "Python 3"
    },
    "language_info": {
      "name": "python"
    }
  },
  "cells": [
    {
      "cell_type": "code",
      "source": [
        "import numpy as np\n",
        "# there are 2000 words\n",
        "alpha = np.full (2000, .1)\n",
        "\n",
        "# there are 100 topics\n",
        "beta = np.full (100, .1)\n",
        "\n",
        "# this gets us the probabilty of each word happening in each of the 100 topics\n",
        "wordsInTopic = np.random.dirichlet (alpha, 100)\n",
        "\n",
        "# produced [doc, topic, word] gives us the number of times that the given word was\n",
        "# produced by the given topic in the given doc\n",
        "produced = np.zeros ((50, 100, 2000))\n",
        "\n",
        "# generate each doc\n",
        "for doc in range (0, 50):\n",
        "        #\n",
        "        # get the topic probabilities for this doc\n",
        "        topicsInDoc = np.random.dirichlet (beta)\n",
        "        #\n",
        "        # assign each of the 2000 words in this doc to a topic\n",
        "        wordsToTopic = np.random.multinomial (2000, topicsInDoc)\n",
        "        #\n",
        "        # and generate each of the 2000 words\n",
        "        for topic in range (0, 100):\n",
        "                produced[doc, topic] = np.random.multinomial (wordsToTopic[topic], wordsInTopic[topic])"
      ],
      "metadata": {
        "id": "GNYuA1LC1zwM"
      },
      "execution_count": 35,
      "outputs": []
    },
    {
      "cell_type": "code",
      "source": [
        "#1st Question\n",
        "produced[18, 17, :].sum()"
      ],
      "metadata": {
        "colab": {
          "base_uri": "https://localhost:8080/"
        },
        "id": "EAo5CKc92H7C",
        "outputId": "8f9ab12d-383b-4bf2-9350-6465b6897f21"
      },
      "execution_count": 36,
      "outputs": [
        {
          "output_type": "execute_result",
          "data": {
            "text/plain": [
              "0.0"
            ]
          },
          "metadata": {},
          "execution_count": 36
        }
      ]
    },
    {
      "cell_type": "code",
      "source": [
        "#2nd Question\n",
        "produced[18, 17:46, :].sum()"
      ],
      "metadata": {
        "colab": {
          "base_uri": "https://localhost:8080/"
        },
        "id": "Emrc04jkZvBR",
        "outputId": "d3616218-e695-4b09-b83a-ef8f8864c1fe"
      },
      "execution_count": 37,
      "outputs": [
        {
          "output_type": "execute_result",
          "data": {
            "text/plain": [
              "1091.0"
            ]
          },
          "metadata": {},
          "execution_count": 37
        }
      ]
    },
    {
      "cell_type": "code",
      "source": [
        "#3rd Question\n",
        "produced.sum()"
      ],
      "metadata": {
        "colab": {
          "base_uri": "https://localhost:8080/"
        },
        "id": "TgEP1a6AuneJ",
        "outputId": "ca2b9f80-2c30-4c2e-f793-15f15f6c4b33"
      },
      "execution_count": 38,
      "outputs": [
        {
          "output_type": "execute_result",
          "data": {
            "text/plain": [
              "100000.0"
            ]
          },
          "metadata": {},
          "execution_count": 38
        }
      ]
    },
    {
      "cell_type": "code",
      "source": [
        "#4th Question\n",
        "produced[:, 17, :].sum()"
      ],
      "metadata": {
        "colab": {
          "base_uri": "https://localhost:8080/"
        },
        "id": "vH8L2T3BunhB",
        "outputId": "9144c7b6-70c5-4c5b-df1d-6d2a587a1dc4"
      },
      "execution_count": 39,
      "outputs": [
        {
          "output_type": "execute_result",
          "data": {
            "text/plain": [
              "512.0"
            ]
          },
          "metadata": {},
          "execution_count": 39
        }
      ]
    },
    {
      "cell_type": "code",
      "source": [
        "#5th Question\n",
        "produced[:, [17, 23], :].sum()"
      ],
      "metadata": {
        "colab": {
          "base_uri": "https://localhost:8080/"
        },
        "id": "TXTAyes9unjy",
        "outputId": "b89b3c6e-cac9-4152-dcfe-6817ce95d70b"
      },
      "execution_count": 40,
      "outputs": [
        {
          "output_type": "execute_result",
          "data": {
            "text/plain": [
              "2081.0"
            ]
          },
          "metadata": {},
          "execution_count": 40
        }
      ]
    },
    {
      "cell_type": "code",
      "source": [
        "produced[:, np.array([17, 23]), :].sum()\n",
        "#This answer is given in the question,I was just confirming if I am getting the correct solution or not. As you can see i am getting same result"
      ],
      "metadata": {
        "colab": {
          "base_uri": "https://localhost:8080/"
        },
        "id": "pi_4UorSunmI",
        "outputId": "bc23fa0f-a2e0-44b9-abd5-1a4e730fae2b"
      },
      "execution_count": 41,
      "outputs": [
        {
          "output_type": "execute_result",
          "data": {
            "text/plain": [
              "2081.0"
            ]
          },
          "metadata": {},
          "execution_count": 41
        }
      ]
    },
    {
      "cell_type": "code",
      "source": [
        "#6th Question\n",
        "produced[:, ::2, :].sum()"
      ],
      "metadata": {
        "colab": {
          "base_uri": "https://localhost:8080/"
        },
        "id": "eF1wliviunog",
        "outputId": "cd8d4c0e-f2cc-4b55-e35e-5db7cd298e88"
      },
      "execution_count": 42,
      "outputs": [
        {
          "output_type": "execute_result",
          "data": {
            "text/plain": [
              "47170.0"
            ]
          },
          "metadata": {},
          "execution_count": 42
        }
      ]
    },
    {
      "cell_type": "code",
      "source": [
        "produced[:,np.arange(0,100,2),:].sum ()\n",
        "#This answer is given in the question,I was just confirming if I am getting the correct solution or not. As you can see i am getting same result"
      ],
      "metadata": {
        "colab": {
          "base_uri": "https://localhost:8080/"
        },
        "id": "vLoSzytJu5dV",
        "outputId": "b5020416-8df5-426d-ad6c-345779dc8423"
      },
      "execution_count": 43,
      "outputs": [
        {
          "output_type": "execute_result",
          "data": {
            "text/plain": [
              "47170.0"
            ]
          },
          "metadata": {},
          "execution_count": 43
        }
      ]
    },
    {
      "cell_type": "code",
      "source": [
        "#7th Question\n",
        "produced[:, 15, :].sum(axis=0)"
      ],
      "metadata": {
        "colab": {
          "base_uri": "https://localhost:8080/"
        },
        "id": "XLyCiDgCu5fw",
        "outputId": "365d38b2-c4b4-412e-82ea-3a3f4807b862"
      },
      "execution_count": 44,
      "outputs": [
        {
          "output_type": "execute_result",
          "data": {
            "text/plain": [
              "array([0., 0., 0., ..., 0., 0., 0.])"
            ]
          },
          "metadata": {},
          "execution_count": 44
        }
      ]
    },
    {
      "cell_type": "code",
      "source": [
        "#8th Question\n",
        "produced.sum(axis=0).argmax(axis=0)"
      ],
      "metadata": {
        "colab": {
          "base_uri": "https://localhost:8080/"
        },
        "id": "E2nahRR-u5iH",
        "outputId": "3046b2eb-2f4b-4c53-c9f6-bb0d11f50918"
      },
      "execution_count": 45,
      "outputs": [
        {
          "output_type": "execute_result",
          "data": {
            "text/plain": [
              "array([74,  1, 74, ..., 19, 11, 23])"
            ]
          },
          "metadata": {},
          "execution_count": 45
        }
      ]
    },
    {
      "cell_type": "code",
      "source": [
        "#9th Question\n",
        "produced.sum(axis=0).max(axis=1)"
      ],
      "metadata": {
        "colab": {
          "base_uri": "https://localhost:8080/"
        },
        "id": "0wVRmB5Yu5kg",
        "outputId": "f9bd835d-71d3-448a-b55c-34d8556ec2e3"
      },
      "execution_count": 46,
      "outputs": [
        {
          "output_type": "execute_result",
          "data": {
            "text/plain": [
              "array([11., 36., 24., 12., 25., 26., 34., 10., 19., 39., 15., 25., 21.,\n",
              "       16., 10., 21., 16., 14., 23., 30., 18., 11., 36., 35., 14., 61.,\n",
              "       32., 30., 45., 18., 32., 46., 39., 88., 17., 15.,  8., 14., 22.,\n",
              "       25., 17., 10.,  8., 48., 19.,  9., 21., 45., 18., 23., 27., 10.,\n",
              "       15., 21., 11., 34., 29., 30., 24., 30., 14., 17., 20., 10., 24.,\n",
              "       12., 31., 41., 21., 31., 20., 12., 24., 29., 54., 30., 22., 69.,\n",
              "       29., 23., 21., 16., 21., 15., 60., 31., 48., 26., 30., 14., 24.,\n",
              "       27., 24., 26., 27., 23., 18., 50., 18., 38.])"
            ]
          },
          "metadata": {},
          "execution_count": 46
        }
      ]
    },
    {
      "cell_type": "code",
      "source": [
        "produced[:,np.arange(0,100,1),produced.sum (0).argmax\n",
        "(1)].sum(0)\n",
        "#This answer is given in the question,I was just confirming if I am getting the correct solution or not. As you can see i am getting same result"
      ],
      "metadata": {
        "colab": {
          "base_uri": "https://localhost:8080/"
        },
        "id": "MhaHis-UvFe-",
        "outputId": "76bbf65b-af1a-4f69-9546-75d51f1a0442"
      },
      "execution_count": 47,
      "outputs": [
        {
          "output_type": "execute_result",
          "data": {
            "text/plain": [
              "array([11., 36., 24., 12., 25., 26., 34., 10., 19., 39., 15., 25., 21.,\n",
              "       16., 10., 21., 16., 14., 23., 30., 18., 11., 36., 35., 14., 61.,\n",
              "       32., 30., 45., 18., 32., 46., 39., 88., 17., 15.,  8., 14., 22.,\n",
              "       25., 17., 10.,  8., 48., 19.,  9., 21., 45., 18., 23., 27., 10.,\n",
              "       15., 21., 11., 34., 29., 30., 24., 30., 14., 17., 20., 10., 24.,\n",
              "       12., 31., 41., 21., 31., 20., 12., 24., 29., 54., 30., 22., 69.,\n",
              "       29., 23., 21., 16., 21., 15., 60., 31., 48., 26., 30., 14., 24.,\n",
              "       27., 24., 26., 27., 23., 18., 50., 18., 38.])"
            ]
          },
          "metadata": {},
          "execution_count": 47
        }
      ]
    }
  ]
}