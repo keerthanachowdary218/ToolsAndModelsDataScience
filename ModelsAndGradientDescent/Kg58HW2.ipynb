{
  "nbformat": 4,
  "nbformat_minor": 0,
  "metadata": {
    "colab": {
      "provenance": []
    },
    "kernelspec": {
      "name": "python3",
      "display_name": "Python 3"
    },
    "language_info": {
      "name": "python"
    }
  },
  "cells": [
    {
      "cell_type": "markdown",
      "source": [
        "Keerthana Golla-**kg58**"
      ],
      "metadata": {
        "id": "g5p5HG3N5ZL7"
      }
    },
    {
      "cell_type": "code",
      "execution_count": 43,
      "metadata": {
        "id": "kPPE3K9Q0sY8"
      },
      "outputs": [],
      "source": [
        "from scipy.stats import invgamma\n",
        "from math import sqrt\n",
        "import numpy as np"
      ]
    },
    {
      "cell_type": "code",
      "source": [
        "#getting data from data.txt\n",
        "allData = {}\n",
        "with open('data.txt', 'r') as data:\n",
        "  for line in data:\n",
        "    vals = [float(x) for x in line.split()]\n",
        "    allData[int(vals[0])] = (vals[1], vals[2])"
      ],
      "metadata": {
        "id": "MR-WLB7j1CUl"
      },
      "execution_count": 44,
      "outputs": []
    },
    {
      "cell_type": "code",
      "source": [
        "m = 20.0\n",
        "c = 50.0\n",
        "sigma = 200.0\n",
        "alpha = 10.0\n",
        "beta = 1.0\n",
        "mu_zero_c = 50.0\n",
        "sigma_zero_c = 100.0\n",
        "mu_zero_m = 5.0\n",
        "sigma_zero_m = 10.0"
      ],
      "metadata": {
        "id": "-3xrT4cX1tbi"
      },
      "execution_count": 45,
      "outputs": []
    },
    {
      "cell_type": "code",
      "source": [
        "def SampleSigma(m, c):\n",
        "    liScale = (sum((c + allData[i][0] * m - allData[i][1]) ** 2 for i in allData) / 2)\n",
        "    piShape = alpha\n",
        "    piScale = beta\n",
        "    poShape = piShape + len(allData) / 2\n",
        "    poScale = piScale + liScale\n",
        "    sample = invgamma.rvs(a=poShape, scale=poScale)\n",
        "    return sqrt(sample)"
      ],
      "metadata": {
        "id": "iX1ul7-N3UFc"
      },
      "execution_count": 46,
      "outputs": []
    },
    {
      "cell_type": "code",
      "source": [
        "print(\"PART 1.a. \")\n",
        "for i in range(10):\n",
        "    print(SampleSigma(m, c))"
      ],
      "metadata": {
        "colab": {
          "base_uri": "https://localhost:8080/"
        },
        "id": "l6-lE1WKP4U0",
        "outputId": "d64e315f-2761-495c-a70a-d3935594001f"
      },
      "execution_count": 47,
      "outputs": [
        {
          "output_type": "stream",
          "name": "stdout",
          "text": [
            "PART 1.a. \n",
            "1309.1513627613722\n",
            "1260.6670637621069\n",
            "1276.9882129722396\n",
            "1271.6184421246094\n",
            "1250.4141008269833\n",
            "1242.3751152307775\n",
            "1314.250718920492\n",
            "1258.6518189047172\n",
            "1282.98943809518\n",
            "1282.893601525311\n"
          ]
        }
      ]
    },
    {
      "cell_type": "code",
      "source": [
        "def SampleC(m, sigma):\n",
        "    liMean = (\n",
        "        mu_zero_c / sigma_zero_c**2\n",
        "        + len(allData) * np.mean([allData[i][1] - m * allData[i][0] for i in allData])\n",
        "    ) / (1 / sigma_zero_c**2 + len(allData))\n",
        "    liStd = np.sqrt(1 / (1 / sigma_zero_c**2 + len(allData)))\n",
        "    return np.random.normal(liMean, liStd)"
      ],
      "metadata": {
        "id": "hyrvz9313e5h"
      },
      "execution_count": 48,
      "outputs": []
    },
    {
      "cell_type": "code",
      "source": [
        "print(\"PART 1.b. \")\n",
        "for i in range(10):\n",
        "    print(SampleC(m, sigma))"
      ],
      "metadata": {
        "colab": {
          "base_uri": "https://localhost:8080/"
        },
        "id": "KmXS5V-vQ4V5",
        "outputId": "701ecf54-467d-4faa-8356-3aed4500b375"
      },
      "execution_count": 49,
      "outputs": [
        {
          "output_type": "stream",
          "name": "stdout",
          "text": [
            "PART 1.b. \n",
            "-1233.4229614392057\n",
            "-1233.4829841743203\n",
            "-1233.4046449882785\n",
            "-1233.4489438170197\n",
            "-1233.476656320459\n",
            "-1233.4627136097542\n",
            "-1233.490081670365\n",
            "-1233.4619568802368\n",
            "-1233.4716373925658\n",
            "-1233.4642053114537\n"
          ]
        }
      ]
    },
    {
      "cell_type": "code",
      "source": [
        "def SampleM(c, sigma):\n",
        "\n",
        "    mMeanNumerator = mu_zero_m / sigma_zero_m**2 + sum(\n",
        "        allData[i][0] * (allData[i][1] - c) for i in allData\n",
        "    )\n",
        "    mMeanDenominator = 1 / sigma_zero_m**2 + sum(allData[i][0] ** 2 for i in allData)\n",
        "    poMean = mMeanNumerator / mMeanDenominator\n",
        "    poStd = np.sqrt(1 / mMeanDenominator)\n",
        "    return np.random.normal(poMean, poStd)"
      ],
      "metadata": {
        "id": "X8kkQPmv3k1A"
      },
      "execution_count": 50,
      "outputs": []
    },
    {
      "cell_type": "code",
      "source": [
        "print(\"PART 1.c. \")\n",
        "for i in range(10):\n",
        "    print(SampleM(c, sigma))"
      ],
      "metadata": {
        "colab": {
          "base_uri": "https://localhost:8080/"
        },
        "id": "ssp8RDzJRk3A",
        "outputId": "0c18e1c0-9458-4e21-ff93-723c96925efa"
      },
      "execution_count": 51,
      "outputs": [
        {
          "output_type": "stream",
          "name": "stdout",
          "text": [
            "PART 1.c. \n",
            "1.1401098889914127\n",
            "1.1398729478859364\n",
            "1.140402847072569\n",
            "1.1395556505760922\n",
            "1.1405531948881917\n",
            "1.1404618675419467\n",
            "1.139788223353465\n",
            "1.1405046426671213\n",
            "1.1408848346960543\n",
            "1.1394462682712705\n"
          ]
        }
      ]
    },
    {
      "cell_type": "code",
      "source": [
        "def getError ():\n",
        "  error = 0.0\n",
        "  count = 0\n",
        "  for x in allData:\n",
        "    y = allData[x]\n",
        "    error += (c + y[0] * m - y[1]) * (c + y[0] * m - y[1])\n",
        "    count += 1\n",
        "  return error / count"
      ],
      "metadata": {
        "id": "4ZaBWxX53sKn"
      },
      "execution_count": 52,
      "outputs": []
    },
    {
      "cell_type": "code",
      "source": [
        "print(\"PART 2)\")\n",
        "errors = []\n",
        "for _ in range(1000):\n",
        "    errors.append(getError())\n",
        "    sigma = SampleSigma(m, c)\n",
        "    m = SampleM(c, sigma)\n",
        "    c = SampleC(m, sigma)"
      ],
      "metadata": {
        "id": "ucf8W_s961a6",
        "colab": {
          "base_uri": "https://localhost:8080/"
        },
        "outputId": "763778bc-3f0c-4b1b-c51e-894af62f4712"
      },
      "execution_count": 53,
      "outputs": [
        {
          "output_type": "stream",
          "name": "stdout",
          "text": [
            "PART 2)\n"
          ]
        }
      ]
    },
    {
      "cell_type": "code",
      "source": [
        "print(\"First 5 errors:\", errors[:5])"
      ],
      "metadata": {
        "id": "-vadjvBt61W1",
        "colab": {
          "base_uri": "https://localhost:8080/"
        },
        "outputId": "54f30125-502d-4824-863c-46046ca72ea6"
      },
      "execution_count": 54,
      "outputs": [
        {
          "output_type": "stream",
          "name": "stdout",
          "text": [
            "First 5 errors: [1648445.9364176341, 118.04383222920956, 118.03333448181102, 118.0044782031103, 117.98404364366445]\n"
          ]
        }
      ]
    },
    {
      "cell_type": "code",
      "source": [
        "print(\"Last 5 errors:\", errors[-5:])"
      ],
      "metadata": {
        "colab": {
          "base_uri": "https://localhost:8080/"
        },
        "id": "j766AjwySmHJ",
        "outputId": "54479876-45d1-4c41-8438-a9b6e0b40d58"
      },
      "execution_count": 55,
      "outputs": [
        {
          "output_type": "stream",
          "name": "stdout",
          "text": [
            "Last 5 errors: [107.13555160945793, 107.13744662429939, 107.13655629283761, 107.13140953700616, 107.12511646775609]\n"
          ]
        }
      ]
    },
    {
      "cell_type": "code",
      "source": [
        "print(\"Final estimates of the m,c and sigma are:\")\n",
        "print(\"m:\", m)\n",
        "print(\"c:\", c)\n",
        "print(\"sigma:\", sigma)"
      ],
      "metadata": {
        "colab": {
          "base_uri": "https://localhost:8080/"
        },
        "id": "ajpNWOOOSrUQ",
        "outputId": "3344e5aa-3a95-42ba-8aea-8d10146a0291"
      },
      "execution_count": 56,
      "outputs": [
        {
          "output_type": "stream",
          "name": "stdout",
          "text": [
            "Final estimates of the m,c and sigma are:\n",
            "m: 2.205275360944926\n",
            "c: -22.526581400882424\n",
            "sigma: 9.954025076004749\n"
          ]
        }
      ]
    }
  ]
}