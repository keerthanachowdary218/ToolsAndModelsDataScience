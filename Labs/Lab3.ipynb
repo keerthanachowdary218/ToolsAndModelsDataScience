{
  "nbformat": 4,
  "nbformat_minor": 0,
  "metadata": {
    "colab": {
      "provenance": []
    },
    "kernelspec": {
      "name": "python3",
      "display_name": "Python 3"
    },
    "language_info": {
      "name": "python"
    }
  },
  "cells": [
    {
      "cell_type": "code",
      "source": [
        "import numpy as np\n",
        "alpha = np.full (2000, .1)\n",
        "beta = np.full (100, .1)\n",
        "wordsInTopic = np.random.dirichlet (alpha, 100)\n",
        "produced = np.zeros ((50, 100, 2000))\n",
        "for doc in range (0, 50):\n",
        "  topicsInDoc = np.random.dirichlet (beta)\n",
        "  wordsToTopic = np.random.multinomial (2000, topicsInDoc)\n",
        "  for topic in range (0, 100):\n",
        "    produced[doc, topic] = np.random.multinomial(wordsToTopic[topic], wordsInTopic[topic])"
      ],
      "metadata": {
        "id": "GNYuA1LC1zwM"
      },
      "execution_count": 14,
      "outputs": []
    },
    {
      "cell_type": "code",
      "source": [
        "num_words_topic_17_doc_18 = produced[18, 17, :].sum()\n",
        "print(\":\", num_words_topic_17_doc_18)"
      ],
      "metadata": {
        "colab": {
          "base_uri": "https://localhost:8080/"
        },
        "id": "EAo5CKc92H7C",
        "outputId": "451ba5cc-dc01-4214-d861-d99d474ed64d"
      },
      "execution_count": 15,
      "outputs": [
        {
          "output_type": "stream",
          "name": "stdout",
          "text": [
            ": 171.0\n"
          ]
        }
      ]
    },
    {
      "cell_type": "code",
      "source": [
        "num_words_topic_17_to_45_doc_18 = produced[18, 17:46, :].sum()\n",
        "print(\":\", num_words_topic_17_to_45_doc_18)"
      ],
      "metadata": {
        "colab": {
          "base_uri": "https://localhost:8080/"
        },
        "id": "Emrc04jkZvBR",
        "outputId": "400248ab-950b-47cb-f4db-f10677dd572a"
      },
      "execution_count": 16,
      "outputs": [
        {
          "output_type": "stream",
          "name": "stdout",
          "text": [
            ": 919.0\n"
          ]
        }
      ]
    },
    {
      "cell_type": "code",
      "source": [
        "total_words_corpus = produced.sum()\n",
        "print(\":\", total_words_corpus)"
      ],
      "metadata": {
        "colab": {
          "base_uri": "https://localhost:8080/"
        },
        "id": "oQeLsBad006w",
        "outputId": "de384e4f-4d44-4572-ea76-88ed4ec9aaa8"
      },
      "execution_count": 17,
      "outputs": [
        {
          "output_type": "stream",
          "name": "stdout",
          "text": [
            ": 100000.0\n"
          ]
        }
      ]
    },
    {
      "cell_type": "code",
      "source": [
        "total_words_topic_17_corpus = produced[:, 17, :].sum()\n",
        "print(\":\", total_words_topic_17_corpus)"
      ],
      "metadata": {
        "colab": {
          "base_uri": "https://localhost:8080/"
        },
        "id": "QXat-3f80343",
        "outputId": "9011af70-df94-4150-e50a-f8a35cd75c71"
      },
      "execution_count": 18,
      "outputs": [
        {
          "output_type": "stream",
          "name": "stdout",
          "text": [
            ": 700.0\n"
          ]
        }
      ]
    },
    {
      "cell_type": "code",
      "source": [
        "total_words_topic_17_or_23_corpus = produced[:, np.array([17, 23]), :].sum()\n",
        "print(\":\", total_words_topic_17_or_23_corpus)"
      ],
      "metadata": {
        "colab": {
          "base_uri": "https://localhost:8080/"
        },
        "id": "PomGxjto1QQz",
        "outputId": "6d83dddf-cf6e-4031-e602-8fe9ee2b4240"
      },
      "execution_count": 19,
      "outputs": [
        {
          "output_type": "stream",
          "name": "stdout",
          "text": [
            ": 1422.0\n"
          ]
        }
      ]
    },
    {
      "cell_type": "code",
      "source": [
        "total_words_even_numbered_topics_corpus = produced[:, np.arange(0, 100, 2), :].sum()\n",
        "print(\":\", total_words_even_numbered_topics_corpus)"
      ],
      "metadata": {
        "colab": {
          "base_uri": "https://localhost:8080/"
        },
        "id": "SYd2grBj1Xct",
        "outputId": "b2c43125-ceaf-4bd4-e10c-ca48a19f7231"
      },
      "execution_count": 20,
      "outputs": [
        {
          "output_type": "stream",
          "name": "stdout",
          "text": [
            ": 52212.0\n"
          ]
        }
      ]
    },
    {
      "cell_type": "code",
      "source": [
        "num_each_word_topic_15 = produced[:, 15, :].sum(axis=0)\n",
        "print(num_each_word_topic_15)"
      ],
      "metadata": {
        "colab": {
          "base_uri": "https://localhost:8080/"
        },
        "id": "uY2PUXdr1Xgt",
        "outputId": "fc60e0ff-0681-4e15-d8e7-281ae6d63bae"
      },
      "execution_count": 21,
      "outputs": [
        {
          "output_type": "stream",
          "name": "stdout",
          "text": [
            "[0. 1. 0. ... 1. 0. 0.]\n"
          ]
        }
      ]
    },
    {
      "cell_type": "code",
      "source": [
        "most_instances_topic_each_word = produced.sum(axis=0).argmax(axis=0)\n",
        "print(most_instances_topic_each_word)"
      ],
      "metadata": {
        "colab": {
          "base_uri": "https://localhost:8080/"
        },
        "id": "vNo1bGfu1i5v",
        "outputId": "feabc328-8451-43d6-dcb4-5617fbbc11cf"
      },
      "execution_count": 22,
      "outputs": [
        {
          "output_type": "stream",
          "name": "stdout",
          "text": [
            "[34 24  6 ... 10 30 48]\n"
          ]
        }
      ]
    },
    {
      "cell_type": "code",
      "source": [
        "max_occurrences_each_topic = produced[:, np.arange(0, 100, 1), produced.sum(0).argmax(1)].sum(0)\n",
        "print(max_occurrences_each_topic)"
      ],
      "metadata": {
        "colab": {
          "base_uri": "https://localhost:8080/"
        },
        "id": "3QEUBcAa1nQi",
        "outputId": "5c21231d-b132-4796-e91a-e7c43a496658"
      },
      "execution_count": 23,
      "outputs": [
        {
          "output_type": "stream",
          "name": "stdout",
          "text": [
            "[31. 18. 10. 13.  9. 34. 23. 24. 16. 22. 37. 18. 23. 50. 15. 48. 30. 15.\n",
            " 24. 14. 26. 13. 34. 15. 37. 15. 21. 29. 22. 20. 48. 22. 18. 21. 23. 31.\n",
            " 47. 20. 11. 30. 36. 20. 26. 24. 17. 16. 23. 18. 24. 32. 26. 18. 20. 16.\n",
            " 26. 10. 11. 37. 38. 25. 34. 22. 25. 37. 14. 15.  8. 14. 14. 16. 49.  9.\n",
            " 48. 35. 32. 17. 28. 22. 21. 17. 23. 33. 11. 27. 42. 25. 33. 36. 32. 26.\n",
            "  9. 25. 16. 14. 24. 17. 12. 17. 30. 13.]\n"
          ]
        }
      ]
    }
  ]
}